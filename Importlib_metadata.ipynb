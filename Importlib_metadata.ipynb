{
  "nbformat": 4,
  "nbformat_minor": 0,
  "metadata": {
    "colab": {
      "name": "Importlib_metadata.ipynb",
      "provenance": [],
      "collapsed_sections": []
    },
    "kernelspec": {
      "name": "python3",
      "display_name": "Python 3"
    }
  },
  "cells": [
    {
      "cell_type": "code",
      "metadata": {
        "id": "YT3IYWqsEigX",
        "colab_type": "code",
        "colab": {}
      },
      "source": [
        "#https://docs.python.org/3/library/importlib.metadata.html"
      ],
      "execution_count": null,
      "outputs": []
    },
    {
      "cell_type": "code",
      "metadata": {
        "id": "V2pCXEfqDHl7",
        "colab_type": "code",
        "colab": {}
      },
      "source": [
        "from importlib_metadata import version, requires, metadata"
      ],
      "execution_count": 1,
      "outputs": []
    },
    {
      "cell_type": "code",
      "metadata": {
        "id": "lu3NyTCyDMVM",
        "colab_type": "code",
        "colab": {}
      },
      "source": [
        "bibliotecas = ['pandas', 'numpy', 'naoexiste', \n",
        "                'seaborn','wheel','matplotlib']"
      ],
      "execution_count": 2,
      "outputs": []
    },
    {
      "cell_type": "code",
      "metadata": {
        "id": "YrhMnnfzDRV2",
        "colab_type": "code",
        "colab": {
          "base_uri": "https://localhost:8080/",
          "height": 124
        },
        "outputId": "4bc57b75-6c3a-4714-b64f-ab2f8a60421b"
      },
      "source": [
        "#Versao bibiotecas\n",
        "for lib in bibliotecas:\n",
        "  try:\n",
        "    print(\"Versão pacote \" + lib + \": \",version(lib))\n",
        "  except:\n",
        "    print(\"ops! Biblioteca ausente:\", lib)"
      ],
      "execution_count": 7,
      "outputs": [
        {
          "output_type": "stream",
          "text": [
            "Versão pacote pandas:  1.0.5\n",
            "Versão pacote numpy:  1.18.5\n",
            "ops! Biblioteca ausente: naoexiste\n",
            "Versão pacote seaborn:  0.10.1\n",
            "Versão pacote wheel:  0.35.1\n",
            "Versão pacote matplotlib:  3.2.2\n"
          ],
          "name": "stdout"
        }
      ]
    },
    {
      "cell_type": "code",
      "metadata": {
        "id": "lb5UITgsDf7n",
        "colab_type": "code",
        "colab": {
          "base_uri": "https://localhost:8080/",
          "height": 124
        },
        "outputId": "56441f44-9d6d-4c0e-9073-06334381bf5f"
      },
      "source": [
        "#Metada bibliotecas - Requires-Python\n",
        "for lib in bibliotecas:\n",
        "  try:\n",
        "    lib_metadata = metadata(lib)\n",
        "    print(\"Distribution metadata (Requires-Python) for  \" + lib + \": \",lib_metadata['Requires-Python'])\n",
        "  except:\n",
        "    print(\"ops! Biblioteca ausente:\", lib)"
      ],
      "execution_count": 11,
      "outputs": [
        {
          "output_type": "stream",
          "text": [
            "Distribution metadata (Requires-Python) for  pandas:  >=3.6.1\n",
            "Distribution metadata (Requires-Python) for  numpy:  >=3.5\n",
            "ops! Biblioteca ausente: naoexiste\n",
            "Distribution metadata (Requires-Python) for  seaborn:  >=3.6\n",
            "Distribution metadata (Requires-Python) for  wheel:  !=3.0.*,!=3.1.*,!=3.2.*,!=3.3.*,!=3.4.*,>=2.7\n",
            "Distribution metadata (Requires-Python) for  matplotlib:  >=3.6\n"
          ],
          "name": "stdout"
        }
      ]
    },
    {
      "cell_type": "code",
      "metadata": {
        "id": "ZUTvIhWDEGR0",
        "colab_type": "code",
        "colab": {
          "base_uri": "https://localhost:8080/",
          "height": 339
        },
        "outputId": "7a0998ad-d56f-481e-bde6-69b025772317"
      },
      "source": [
        "#Requires bibliotecas\n",
        "for lib in bibliotecas:\n",
        "  try:\n",
        "    print(\"\\nRequires for \" + lib + \":\\n \",requires(lib))\n",
        "  except:\n",
        "    print(\"\\nOps.... Biblioteca ausente:\", lib)"
      ],
      "execution_count": 10,
      "outputs": [
        {
          "output_type": "stream",
          "text": [
            "\n",
            "Requires for pandas:\n",
            "  ['python-dateutil (>=2.6.1)', 'pytz (>=2017.2)', 'numpy (>=1.13.3)', \"pytest (>=4.0.2) ; extra == 'test'\", \"pytest-xdist ; extra == 'test'\", \"hypothesis (>=3.58) ; extra == 'test'\"]\n",
            "\n",
            "Requires for numpy:\n",
            "  None\n",
            "\n",
            "Ops.... Biblioteca ausente: naoexiste\n",
            "\n",
            "Requires for seaborn:\n",
            "  ['numpy (>=1.13.3)', 'scipy (>=1.0.1)', 'pandas (>=0.22.0)', 'matplotlib (>=2.1.2)']\n",
            "\n",
            "Requires for wheel:\n",
            "  [\"pytest (>=3.0.0) ; extra == 'test'\", \"pytest-cov ; extra == 'test'\"]\n",
            "\n",
            "Requires for matplotlib:\n",
            "  ['cycler (>=0.10)', 'kiwisolver (>=1.0.1)', 'numpy (>=1.11)', 'pyparsing (!=2.0.4,!=2.1.2,!=2.1.6,>=2.0.1)', 'python-dateutil (>=2.1)']\n"
          ],
          "name": "stdout"
        }
      ]
    }
  ]
}