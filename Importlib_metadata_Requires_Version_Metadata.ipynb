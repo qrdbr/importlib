{
  "nbformat": 4,
  "nbformat_minor": 0,
  "metadata": {
    "colab": {
      "name": "Importlib_metadata - Requires-Version-Metadata.ipynb",
      "provenance": [],
      "collapsed_sections": []
    },
    "kernelspec": {
      "name": "python3",
      "display_name": "Python 3"
    }
  },
  "cells": [
    {
      "cell_type": "code",
      "metadata": {
        "id": "YT3IYWqsEigX",
        "colab_type": "code",
        "colab": {}
      },
      "source": [
        "#https://docs.python.org/3/library/importlib.metadata.html"
      ],
      "execution_count": 19,
      "outputs": []
    },
    {
      "cell_type": "code",
      "metadata": {
        "id": "V2pCXEfqDHl7",
        "colab_type": "code",
        "colab": {}
      },
      "source": [
        "from importlib_metadata import version, requires, metadata"
      ],
      "execution_count": 20,
      "outputs": []
    },
    {
      "cell_type": "code",
      "metadata": {
        "id": "lu3NyTCyDMVM",
        "colab_type": "code",
        "colab": {}
      },
      "source": [
        "bibliotecas = ['pandas', 'numpy', 'naoexiste', \n",
        "                'seaborn','wheel','matplotlib']"
      ],
      "execution_count": 24,
      "outputs": []
    },
    {
      "cell_type": "code",
      "metadata": {
        "id": "FyUXdLPLP8Pw",
        "colab_type": "code",
        "colab": {
          "base_uri": "https://localhost:8080/",
          "height": 72
        },
        "outputId": "f8225040-b9e9-45b5-baef-85e45554e1ce"
      },
      "source": [
        "#Metadata\n",
        "lib = bibliotecas[0]\n",
        "print(lib)\n",
        "print(list(metadata(lib)))\n"
      ],
      "execution_count": 29,
      "outputs": [
        {
          "output_type": "stream",
          "text": [
            "pandas\n",
            "['Metadata-Version', 'Name', 'Version', 'Summary', 'Home-page', 'Maintainer', 'Maintainer-email', 'License', 'Project-URL', 'Project-URL', 'Project-URL', 'Platform', 'Classifier', 'Classifier', 'Classifier', 'Classifier', 'Classifier', 'Classifier', 'Classifier', 'Classifier', 'Classifier', 'Classifier', 'Classifier', 'Requires-Python', 'Requires-Dist', 'Requires-Dist', 'Requires-Dist', 'Provides-Extra', 'Requires-Dist', 'Requires-Dist', 'Requires-Dist']\n"
          ],
          "name": "stdout"
        }
      ]
    },
    {
      "cell_type": "code",
      "metadata": {
        "id": "YrhMnnfzDRV2",
        "colab_type": "code",
        "colab": {
          "base_uri": "https://localhost:8080/",
          "height": 124
        },
        "outputId": "656a3d76-8d42-4138-9062-b63a5212d2ab"
      },
      "source": [
        "#Versao bibliotecas\n",
        "for lib in bibliotecas:\n",
        "  try:\n",
        "    print(\"Versão pacote \" + lib + \": \",version(lib))\n",
        "  except:\n",
        "    print(\"ops! Biblioteca ausente:\", lib)"
      ],
      "execution_count": 22,
      "outputs": [
        {
          "output_type": "stream",
          "text": [
            "Versão pacote pandas:  1.0.5\n",
            "Versão pacote numpy:  1.18.5\n",
            "ops! Biblioteca ausente: naoexiste\n",
            "Versão pacote seaborn:  0.10.1\n",
            "Versão pacote wheel:  0.35.1\n",
            "Versão pacote matplotlib:  3.2.2\n"
          ],
          "name": "stdout"
        }
      ]
    },
    {
      "cell_type": "code",
      "metadata": {
        "id": "lb5UITgsDf7n",
        "colab_type": "code",
        "colab": {
          "base_uri": "https://localhost:8080/",
          "height": 124
        },
        "outputId": "12efaa0b-f6d0-4165-ce1e-04581efe6fe0"
      },
      "source": [
        "#Metada bibliotecas - Requires-Python\n",
        "for lib in bibliotecas:\n",
        "  try:\n",
        "    lib_metadata = metadata(lib)\n",
        "    print(\"Distribution metadata (Requires-Python) for  \" + lib + \": \",lib_metadata['Requires-Python'])\n",
        "  except:\n",
        "    print(\"ops! Biblioteca ausente:\", lib)"
      ],
      "execution_count": 23,
      "outputs": [
        {
          "output_type": "stream",
          "text": [
            "Distribution metadata (Requires-Python) for  pandas:  >=3.6.1\n",
            "Distribution metadata (Requires-Python) for  numpy:  >=3.5\n",
            "ops! Biblioteca ausente: naoexiste\n",
            "Distribution metadata (Requires-Python) for  seaborn:  >=3.6\n",
            "Distribution metadata (Requires-Python) for  wheel:  !=3.0.*,!=3.1.*,!=3.2.*,!=3.3.*,!=3.4.*,>=2.7\n",
            "Distribution metadata (Requires-Python) for  matplotlib:  >=3.6\n"
          ],
          "name": "stdout"
        }
      ]
    },
    {
      "cell_type": "code",
      "metadata": {
        "id": "ddyYrtfTJue5",
        "colab_type": "code",
        "colab": {}
      },
      "source": [
        "#Exemplo\n",
        "\n",
        "#Versão pacote pandas:  1.0.5\n",
        "#Distribution metadata (Requires-Python) for  pandas:  >=3.6.1\n",
        "\n",
        "#https://pandas.pydata.org/pandas-docs/version/1.0.5/getting_started/install.html\n",
        "#Officially Python 3.6.1 and above, 3.7, and 3.8."
      ],
      "execution_count": 32,
      "outputs": []
    },
    {
      "cell_type": "code",
      "metadata": {
        "id": "g9_94YQ2P6hN",
        "colab_type": "code",
        "colab": {
          "base_uri": "https://localhost:8080/",
          "height": 124
        },
        "outputId": "a30c1ead-8193-41ec-fa0e-7a55de91e4b0"
      },
      "source": [
        "#Metada bibliotecas - Dependencias\n",
        "for lib in bibliotecas:\n",
        "  try:\n",
        "    lib_metadata = metadata(lib)\n",
        "    print(\"Requires-Dist for  \" + lib + \": \",lib_metadata['Requires-Dist'])\n",
        "  except:\n",
        "    print(\"ops! Biblioteca ausente:\", lib)"
      ],
      "execution_count": 31,
      "outputs": [
        {
          "output_type": "stream",
          "text": [
            "Requires-Dist for  pandas:  python-dateutil (>=2.6.1)\n",
            "Requires-Dist for  numpy:  None\n",
            "ops! Biblioteca ausente: naoexiste\n",
            "Requires-Dist for  seaborn:  numpy (>=1.13.3)\n",
            "Requires-Dist for  wheel:  pytest (>=3.0.0) ; extra == 'test'\n",
            "Requires-Dist for  matplotlib:  cycler (>=0.10)\n"
          ],
          "name": "stdout"
        }
      ]
    },
    {
      "cell_type": "code",
      "metadata": {
        "id": "ZUTvIhWDEGR0",
        "colab_type": "code",
        "colab": {
          "base_uri": "https://localhost:8080/",
          "height": 339
        },
        "outputId": "db40d3fd-d492-4e20-82ec-4a9800479c9c"
      },
      "source": [
        "#Requires bibliotecas\n",
        "for lib in bibliotecas:\n",
        "  try:\n",
        "    print(\"\\nRequires for \" + lib + \":\\n \",requires(lib))\n",
        "  except:\n",
        "    print(\"\\nOps.... Biblioteca ausente:\", lib)"
      ],
      "execution_count": 18,
      "outputs": [
        {
          "output_type": "stream",
          "text": [
            "\n",
            "Requires for pandas:\n",
            "  ['python-dateutil (>=2.6.1)', 'pytz (>=2017.2)', 'numpy (>=1.13.3)', \"pytest (>=4.0.2) ; extra == 'test'\", \"pytest-xdist ; extra == 'test'\", \"hypothesis (>=3.58) ; extra == 'test'\"]\n",
            "\n",
            "Requires for numpy:\n",
            "  None\n",
            "\n",
            "Ops.... Biblioteca ausente: naoexiste\n",
            "\n",
            "Requires for seaborn:\n",
            "  ['numpy (>=1.13.3)', 'scipy (>=1.0.1)', 'pandas (>=0.22.0)', 'matplotlib (>=2.1.2)']\n",
            "\n",
            "Requires for wheel:\n",
            "  [\"pytest (>=3.0.0) ; extra == 'test'\", \"pytest-cov ; extra == 'test'\"]\n",
            "\n",
            "Requires for matplotlib:\n",
            "  ['cycler (>=0.10)', 'kiwisolver (>=1.0.1)', 'numpy (>=1.11)', 'pyparsing (!=2.0.4,!=2.1.2,!=2.1.6,>=2.0.1)', 'python-dateutil (>=2.1)']\n"
          ],
          "name": "stdout"
        }
      ]
    }
  ]
}